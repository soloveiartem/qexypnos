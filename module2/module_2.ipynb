{
 "cells": [
  {
   "attachments": {},
   "cell_type": "markdown",
   "metadata": {},
   "source": [
    "# Модульна контрольна робота 2: Класифікація, Частина 2\n",
    "\n",
    "В даній роботі будемо продовжувати досліджувати та створювати класифікатор використовуючи метод k-nearest neighbors.\n",
    "\n",
    "Необхідно буде створити класифікатор, який визначає, до якого жанру відноситься та чи інша пісня, використовуючи лише кількість слів, які зустрічаються в тексті пісні. В проекті буде необхідно:\n",
    "\n",
    "1. Очистити і впорядкувати набір даних, який використовується для тестування моделі\n",
    "2. Побудувати класифікатор k-найближчих сусідів\n",
    "3. Перевірити класифікатор на даних\n",
    "\n",
    "Для самоконтролю використовуються тести автогрейдера (from gofer.ok import check), як і в поперідній работі. Якщо Ви їх ще не використовували, то для їх викоритання необхідно інсталювати два додаткових модуля (через CMD.exe Prompt в ANACONDA NAVIGATOR) а саме:\n",
    "\n",
    "- **okgrade** (pip install okgrade) https://okgrade.readthedocs.io/_/downloads/en/latest/pdf/\n",
    "- **gofer** (pip install git+https://github.com/grading/gradememaybe.git) https://okgrade.readthedocs.io/en/latest/install/\n",
    "\n",
    "Якщо Ви не бажаєти їх викоритовувати, то закоментуйте відповідний рядок і не використовуйте рядки тесту (наприклад check('tests/q2_1.py'), ...). В такому разі Ви можете переглянути наявні тести у відповідній директорії"
   ]
  },
  {
   "cell_type": "code",
   "execution_count": 1,
   "metadata": {},
   "outputs": [],
   "source": [
    "# Run this cell to set up the notebook, but please don't change it.\n",
    "import numpy as np\n",
    "import math\n",
    "from datascience import *\n",
    "\n",
    "# These lines set up the plotting functionality and formatting.\n",
    "import matplotlib\n",
    "matplotlib.use('Agg')\n",
    "%matplotlib inline\n",
    "import matplotlib.pyplot as plots\n",
    "plots.style.use('fivethirtyeight')\n",
    "import warnings\n",
    "warnings.simplefilter(action=\"ignore\", category=FutureWarning)\n",
    "warnings.simplefilter('ignore', UserWarning)\n",
    "\n",
    "# These lines load the tests.\n",
    "from gofer.ok import check"
   ]
  },
  {
   "attachments": {},
   "cell_type": "markdown",
   "metadata": {},
   "source": [
    "## Попередній огляд\n",
    "\n",
    "У практичній роботі 5.5 ми виконали такі завдання:\n",
    "1. У розділі 1 ми досліджували набір даних і розділили його на навчальні та тестові вибірки.\n",
    "2. У розділі 2 ми розглянули приклад алгоритму класифікації k-Nearest Neightbors (k-NN).\n",
    "\n",
    "**Якщо Ви недоробили практичну роботу 5.5 - поверніться та перегляньте її зараз. Це допоможе Вам у цій роботі. **\n",
    "\n",
    "У цій роботі ми плануємо виконати такі завдання:\n",
    "1. Визначите деякі ознаки.\n",
    "2. Визначите функцію класифікатора, використовуючи обрані ознаки та навчальну вибірку.\n",
    "3. Оцінемо ефективність класифікатора (відсоток правильних класифікацій) на тестовій вибірці."
   ]
  },
  {
   "attachments": {},
   "cell_type": "markdown",
   "metadata": {},
   "source": [
    "Запустіть комірку нижче, щоб налаштувати проект."
   ]
  },
  {
   "cell_type": "code",
   "execution_count": 364,
   "metadata": {},
   "outputs": [],
   "source": [
    "lyrics = Table.read_table('lyrics.csv')\n",
    "\n",
    "training_proportion = 11/16\n",
    "\n",
    "num_songs = lyrics.num_rows\n",
    "num_train = int(num_songs * training_proportion)\n",
    "num_valid = num_songs - num_train\n",
    "\n",
    "train_lyrics = lyrics.take(np.arange(num_train))\n",
    "test_lyrics = lyrics.take(np.arange(num_train, num_songs))\n",
    "\n",
    "def most_common(label, table):\n",
    "    return table.group(label).sort('count', descending=True).column(label).item(0)"
   ]
  },
  {
   "attachments": {},
   "cell_type": "markdown",
   "metadata": {},
   "source": [
    "## 1. Ознаки"
   ]
  },
  {
   "attachments": {},
   "cell_type": "markdown",
   "metadata": {},
   "source": [
    "Тепер ми збираємося розширити наш класифікатор із практичної роботи 5.5, щоб використовувати більше двох ознак одночасно.\n",
    "\n",
    "Евклідова відстань все ще має сенс з більш ніж двома ознаками. Для `n` різних ознак ми обчислюємо різницю між відповідними значеннями ознак для двох пісень, потім підводимо кожну з `n` різниць у квадрат, підсумовуємо отримані числа та беремо квадратний корінь із суми."
   ]
  },
  {
   "attachments": {},
   "cell_type": "markdown",
   "metadata": {},
   "source": [
    "** <b>Завдання 1.1</b> ** <br/>\n",
    "\n",
    "Напишіть функцію для обчислення евклідової відстані між двома **масивами (arrays)** ознак *довільної* (але однакової) довжини. Використуємо її, щоб обчислити відстань між першою піснею в навчальній вибірці та першою піснею в тестовому наборі, *використовуючи всі ознаки*. (Пам’ятайте, що `Title`, `Artist` та `Genre` пісень не являються ознаками.)\n",
    "\n",
    "**Примітка.** Щоб перетворити рядкові об’єкти (row в таблиці створеної в datascience) на масиви (arrays), використовуйте `np.array`. Наприклад, якщо \"t\" була таблицею, \"np.array(t.row(0))\" перетворює 0 рядок \"t\" на масив."
   ]
  },
  {
   "cell_type": "code",
   "execution_count": 384,
   "metadata": {},
   "outputs": [
    {
     "data": {
      "text/plain": [
       "0.1482277008140451"
      ]
     },
     "execution_count": 384,
     "metadata": {},
     "output_type": "execute_result"
    }
   ],
   "source": [
    "def distance(features1, features2):\n",
    "    \"\"\"The Euclidean distance between two arrays of feature values.\"\"\"\n",
    "    t = features1 - features2\n",
    "    return np.sqrt(np.dot(t, t))\n",
    "\n",
    "distance_first_to_first = distance(np.array(train_lyrics.row(0)[3:]), np.array(test_lyrics.row(0)[3:]))\n",
    "distance_first_to_first"
   ]
  },
  {
   "cell_type": "code",
   "execution_count": 385,
   "metadata": {},
   "outputs": [
    {
     "data": {
      "text/html": [
       "\n",
       "    \n",
       "    \n",
       "        <p>All tests passed!</p>\n",
       "    \n",
       "    "
      ],
      "text/plain": [
       "<gofer.ok.OKTestsResult at 0x18ec2fca340>"
      ]
     },
     "execution_count": 385,
     "metadata": {},
     "output_type": "execute_result"
    }
   ],
   "source": [
    "check(\"tests/q1_1.py\")"
   ]
  },
  {
   "attachments": {},
   "cell_type": "markdown",
   "metadata": {},
   "source": [
    "### 1.1. Створення власного набору ознак\n",
    "\n",
    "Однак, використання всіх ознак має деякі недоліки, ми їх обговорювали на лекції. Одним з явних недоліків є *обчислювальна вартість* — обчислення евклідових відстаней займає багато часу, якщо у нас є багато ознак. Ви могли помітити це в попередньому завданні! Крім того, не всі ознаки є інформативними, отже їх кількість варто зменшити.\n",
    "\n",
    "Тож ми виберемо лише 20. Хотілося б обрати ознаки, які є дуже *дискримінативними*. Тобто ознаки, які дозволяють нам правильно класифікувати якомога більшу частину тестової вибірки. Цей процес вибору ознак, які забезпечать ефективну роботу класифікатора, іноді називають *вибором ознак* або ширше *конструюванням ознак* (https://en.wikipedia.org/wiki/Feature_engineering)."
   ]
  },
  {
   "attachments": {},
   "cell_type": "markdown",
   "metadata": {},
   "source": [
    "** <b>Завдання 1.1.1</b> ** <br/>\n",
    "\n",
    "Перегляньте список ознак (атрибути таблиці `lyrics` окрім перших трьох). Виберіть 20 загальних слів, які, на вашу думку, допоможуть розрізнити пісні country та hip-hop. Обов’язково вибирайте слова, які вживаються достатньо часто, щоб кожна пісня містила принаймні одне з них. Але не обирайте лише 20 найчастіших... ви можете зробити набагато краще.\n",
    "\n",
    "Можливо, Ви захочете повернутися до цього питання пізніше, щоб покращити свій набір ознак, коли Ви побачите, як оцінити свій класифікатор. Коли Ви вперше відповідаєте на це завданняя, приділіть деякий час перегляду ознак, але не більше 15 хвилин.\n",
    "\n",
    "Наприклад, для свого набору ознак було обрано наступні ['love','like','ego','brick','creep','block','gun','gave','scream','in','will','we','with','what','out','from','let','back','was','got']. Це наведено для прикладу, але Ви створіть власний набір. "
   ]
  },
  {
   "cell_type": "code",
   "execution_count": 386,
   "metadata": {},
   "outputs": [],
   "source": [
    "# Set my_20_features to an array of 20 features (strings that are column labels)\n",
    "\n",
    "my_20_features = [\"with\", \"say\", \"let\", \"like\", \"man\", \"she\", \"do\", \"that\", \"never\", \"see\", \"tell\", \"whi\", \"who\", \"love\", \"you\", \"brick\", \"too\", \"mind\", \"scream\", \"gun\"]\n",
    "train_20 = train_lyrics.select(my_20_features)\n",
    "test_20 = test_lyrics.select(my_20_features)"
   ]
  },
  {
   "attachments": {},
   "cell_type": "markdown",
   "metadata": {},
   "source": [
    "Тест нижче перевіряє для гарантії, що Ви вибрали слова так, щоб принаймні одне з’явилося в кожній пісні. Якщо ви не можете знайти слова, які задовольняють цей тест лише завдяки інтуїції, спробуйте написати код, щоб роздрукувати назви пісень, які не містять жодного слова з вашого списку, а потім подивіться на слова, які вони містять."
   ]
  },
  {
   "cell_type": "code",
   "execution_count": 387,
   "metadata": {},
   "outputs": [
    {
     "data": {
      "text/html": [
       "\n",
       "    \n",
       "    \n",
       "        <p>All tests passed!</p>\n",
       "    \n",
       "    "
      ],
      "text/plain": [
       "<gofer.ok.OKTestsResult at 0x18ec2fca1c0>"
      ]
     },
     "execution_count": 387,
     "metadata": {},
     "output_type": "execute_result"
    }
   ],
   "source": [
    "check(\"tests/q1_1_1.py\")"
   ]
  },
  {
   "attachments": {},
   "cell_type": "markdown",
   "metadata": {},
   "source": [
    "Далі давайте спробуємо класифікувати першу пісню з нашого тестового набору за допомогою обраних ознак. Ви можете переглянути пісню, запустивши комірку нижче. Як Ви думаєте, чи правильно буде її класифіковано?"
   ]
  },
  {
   "cell_type": "code",
   "execution_count": 388,
   "metadata": {},
   "outputs": [
    {
     "name": "stdout",
     "output_type": "stream",
     "text": [
      "Song:\n"
     ]
    },
    {
     "data": {
      "text/html": [
       "<table border=\"1\" class=\"dataframe\">\n",
       "    <thead>\n",
       "        <tr>\n",
       "            <th>Title</th> <th>Artist</th> <th>Genre</th>\n",
       "        </tr>\n",
       "    </thead>\n",
       "    <tbody>\n",
       "        <tr>\n",
       "            <td>That Kind of Love</td> <td>Alison Krauss</td> <td>Country</td>\n",
       "        </tr>\n",
       "    </tbody>\n",
       "</table>"
      ],
      "text/plain": [
       "<IPython.core.display.HTML object>"
      ]
     },
     "metadata": {},
     "output_type": "display_data"
    },
    {
     "name": "stdout",
     "output_type": "stream",
     "text": [
      "Features:\n"
     ]
    },
    {
     "data": {
      "text/html": [
       "<table border=\"1\" class=\"dataframe\">\n",
       "    <thead>\n",
       "        <tr>\n",
       "            <th>with</th> <th>say</th> <th>let</th> <th>like</th> <th>man</th> <th>she</th> <th>do</th> <th>that</th> <th>never</th> <th>see</th> <th>tell</th> <th>whi</th> <th>who</th> <th>love</th> <th>you</th> <th>brick</th> <th>too</th> <th>mind</th> <th>scream</th> <th>gun</th>\n",
       "        </tr>\n",
       "    </thead>\n",
       "    <tbody>\n",
       "        <tr>\n",
       "            <td>0.005291</td> <td>0   </td> <td>0   </td> <td>0.010582</td> <td>0   </td> <td>0   </td> <td>0.005291</td> <td>0.026455</td> <td>0    </td> <td>0   </td> <td>0   </td> <td>0   </td> <td>0.005291</td> <td>0.026455</td> <td>0.005291</td> <td>0    </td> <td>0   </td> <td>0.005291</td> <td>0     </td> <td>0   </td>\n",
       "        </tr>\n",
       "    </tbody>\n",
       "</table>"
      ],
      "text/plain": [
       "<IPython.core.display.HTML object>"
      ]
     },
     "metadata": {},
     "output_type": "display_data"
    }
   ],
   "source": [
    "print(\"Song:\")\n",
    "test_lyrics.take(0).select('Title', 'Artist', 'Genre').show()\n",
    "print(\"Features:\")\n",
    "test_20.take(0).show()"
   ]
  },
  {
   "attachments": {},
   "cell_type": "markdown",
   "metadata": {},
   "source": [
    "Як і раніше, ми хочемо знайти пісні в навчальній вибірці, які найбільше схожі на нашу тестову пісню. Ми обчислимо евклідові відстані від тестової пісні (використовуючи 20 обраних ознак) до всіх пісень в навчальній вибірці. Ви можете зробити це за допомогою циклу `for`, але щоб пришвидшити обчислення, Вам надається функція `fast_distances`, яка зробить це за Вас. Прочитайте її документацію, щоб переконатися, що Ви розумієте, що він робить. (Вам не потрібно читати код у тілі функції, якщо Ви цього не хочете.)"
   ]
  },
  {
   "cell_type": "code",
   "execution_count": 389,
   "metadata": {},
   "outputs": [],
   "source": [
    "# Just run this cell to define fast_distances.\n",
    "\n",
    "def fast_distances(test_row, train_rows):\n",
    "    \"\"\"An array of the distances between test_row and each row in train_rows.\n",
    "\n",
    "    Takes 2 arguments:\n",
    "      test_row: A row of a table containing features of one\n",
    "        test song (e.g., test_20.row(0)).\n",
    "      train_rows: A table of features (for example, the whole\n",
    "        table train_20).\"\"\"\n",
    "    assert train_rows.num_columns < 50, \"Make sure you're not using all the features of the lyrics table.\"\n",
    "    counts_matrix = np.asmatrix(train_rows.columns).transpose()\n",
    "    diff = np.tile(np.array(test_row), [counts_matrix.shape[0], 1]) - counts_matrix\n",
    "    distances = np.squeeze(np.asarray(np.sqrt(np.square(diff).sum(1))))\n",
    "    return distances"
   ]
  },
  {
   "attachments": {},
   "cell_type": "markdown",
   "metadata": {},
   "source": [
    "** <b>Завдання 1.1.2</b> ** <br/>\n",
    "\n",
    "Скористайтеся наданою вище функцією `fast_distances`, щоб обчислити відстань від першої пісні в тестовому наборі до всіх пісень в навчальній вибірці, **використовуючи ваш набір із 20 ознак**. Створіть нову таблицю під назвою `genre_and_distances` з одним рядком для кожної пісні в навчальній вибірці та двома стовпцями:\n",
    "* `\"Genre\"` навчальної пісні (взяти з train_lyrics колонку `\"Genre\"`)\n",
    "* `\"Distance\"` від першої пісні в тестовій вибірці (використати функцію `fast_distances`)\n",
    "\n",
    "Переконайтеся, що `genre_and_distances` **відсортовано в порядку зростання за відстанню до першої тестової пісні**. (підказка - `Table().with_columns(\"Genre\", ..., \"Distance\", ...).sort(\"Distance\")`)"
   ]
  },
  {
   "cell_type": "code",
   "execution_count": 391,
   "metadata": {
    "for_assignment_type": "student"
   },
   "outputs": [
    {
     "data": {
      "text/html": [
       "<table border=\"1\" class=\"dataframe\">\n",
       "    <thead>\n",
       "        <tr>\n",
       "            <th>Genre</th> <th>Distance</th>\n",
       "        </tr>\n",
       "    </thead>\n",
       "    <tbody>\n",
       "        <tr>\n",
       "            <td>Country</td> <td>0.0175266</td>\n",
       "        </tr>\n",
       "        <tr>\n",
       "            <td>Country</td> <td>0.0210562</td>\n",
       "        </tr>\n",
       "        <tr>\n",
       "            <td>Country</td> <td>0.0221516</td>\n",
       "        </tr>\n",
       "        <tr>\n",
       "            <td>Hip-hop</td> <td>0.022232 </td>\n",
       "        </tr>\n",
       "        <tr>\n",
       "            <td>Hip-hop</td> <td>0.0224468</td>\n",
       "        </tr>\n",
       "        <tr>\n",
       "            <td>Country</td> <td>0.0226741</td>\n",
       "        </tr>\n",
       "        <tr>\n",
       "            <td>Country</td> <td>0.0236327</td>\n",
       "        </tr>\n",
       "        <tr>\n",
       "            <td>Country</td> <td>0.0243171</td>\n",
       "        </tr>\n",
       "        <tr>\n",
       "            <td>Hip-hop</td> <td>0.0246295</td>\n",
       "        </tr>\n",
       "        <tr>\n",
       "            <td>Country</td> <td>0.0252208</td>\n",
       "        </tr>\n",
       "    </tbody>\n",
       "</table>\n",
       "<p>... (1173 rows omitted)</p>"
      ],
      "text/plain": [
       "Genre   | Distance\n",
       "Country | 0.0175266\n",
       "Country | 0.0210562\n",
       "Country | 0.0221516\n",
       "Hip-hop | 0.022232\n",
       "Hip-hop | 0.0224468\n",
       "Country | 0.0226741\n",
       "Country | 0.0236327\n",
       "Country | 0.0243171\n",
       "Hip-hop | 0.0246295\n",
       "Country | 0.0252208\n",
       "... (1173 rows omitted)"
      ]
     },
     "execution_count": 391,
     "metadata": {},
     "output_type": "execute_result"
    }
   ],
   "source": [
    "# The staff solution took about 4 lines of code, but it's not obviously.\n",
    "\n",
    "genre_and_distances = Table().with_columns(\"Genre\", train_lyrics.column(2), \"Distance\", fast_distances(test_20.row(0), train_20)).sort(\"Distance\")\n",
    "genre_and_distances"
   ]
  },
  {
   "cell_type": "code",
   "execution_count": 392,
   "metadata": {},
   "outputs": [
    {
     "data": {
      "text/html": [
       "\n",
       "    \n",
       "    \n",
       "        <p>All tests passed!</p>\n",
       "    \n",
       "    "
      ],
      "text/plain": [
       "<gofer.ok.OKTestsResult at 0x18ec35ad490>"
      ]
     },
     "execution_count": 392,
     "metadata": {},
     "output_type": "execute_result"
    }
   ],
   "source": [
    "check(\"tests/q1_1_2.py\")"
   ]
  },
  {
   "attachments": {},
   "cell_type": "markdown",
   "metadata": {},
   "source": [
    "** <b>Завдання 1.1.3</b> ** <br/>\n",
    "\n",
    "Тепер проведіть класифікацію за 5 найближчими сусідами першої пісні в тестовому наборі. Тобто визначте її жанр, знайшовши найпоширеніший жанр серед 5 його найближчих сусідів відповідно до обчислених відстаней. Потім перевірте, чи Ваш класифікатор вибрав правильний жанр. (Залежно від обраних ознак, класифікатор може і неправильно класифікувати цю пісню, і це нормально.)\n",
    "\n",
    "**Підказка** - для визначання жанру скористайтеся отриманою таблицею `genre_and_distances`. Візьміть 5 перших рядків (адже таблиця відсортована - `.take(range(5))`. Згрупуйте за жанром - `.group(\"Genre\")`. Відсортуйте за зростянням - `.sort(\"count\", descending = True)`. Витягніть колонку `\"Genre\"` - `.column(\"Genre\")` та отримайте перший запис з колонки з назвою жанра - `.item(0)`.\n",
    "\n",
    "Для визначення змінної my_assigned_genre_was_correct необхідно присвоїти їй результат порівняння отриманого спрогнозованого жанру - `my_assigned_genre` та жанру який реально визнчений у таблиці `test_lyrics` для цієї пісні - `test_lyrics.take(0).column(\"Genre\").item(0)`."
   ]
  },
  {
   "cell_type": "code",
   "execution_count": 393,
   "metadata": {},
   "outputs": [
    {
     "name": "stdout",
     "output_type": "stream",
     "text": [
      "The assigned genre, Country, was correct.\n"
     ]
    }
   ],
   "source": [
    "# Set my_assigned_genre to the most common genre among these.\n",
    "my_assigned_genre = genre_and_distances.take(range(5)).group(\"Genre\").sort(\"count\", descending = True).column(\"Genre\").item(0)\n",
    "\n",
    "# Set my_assigned_genre_was_correct to True if my_assigned_genre\n",
    "# matches the actual genre of the first song in the test set.\n",
    "my_assigned_genre_was_correct = my_assigned_genre == test_lyrics.take(0).column(\"Genre\").item(0)\n",
    "\n",
    "print(\"The assigned genre, {}, was{}correct.\".format(my_assigned_genre, \" \" if my_assigned_genre_was_correct else \" not \"))"
   ]
  },
  {
   "cell_type": "code",
   "execution_count": 394,
   "metadata": {},
   "outputs": [
    {
     "data": {
      "text/html": [
       "\n",
       "    \n",
       "    \n",
       "        <p>All tests passed!</p>\n",
       "    \n",
       "    "
      ],
      "text/plain": [
       "<gofer.ok.OKTestsResult at 0x18ec35cfe50>"
      ]
     },
     "execution_count": 394,
     "metadata": {},
     "output_type": "execute_result"
    }
   ],
   "source": [
    "check(\"tests/q1_1_3.py\")"
   ]
  },
  {
   "attachments": {},
   "cell_type": "markdown",
   "metadata": {},
   "source": [
    "### 1.2. Функція класифікатора\n",
    "\n",
    "Тепер ми можемо написати одну функцію, яка інкапсулює весь процес класифікації."
   ]
  },
  {
   "attachments": {},
   "cell_type": "markdown",
   "metadata": {},
   "source": [
    "** <b>Завдання 1.2.1</b> ** <br/>\n",
    "\n",
    "Напишіть функцію під назвою `classify`. Вона має прийняти такі чотири аргументи:\n",
    "* Рядок ознак для класифікації пісні (наприклад, `test_20.row(0)`) - фактично *невідому* пісню.\n",
    "* Таблиця тренувальної вибірки зі стовпцями значень для кожної з обраних ознак (наприклад, `train_20`).\n",
    "* Масив класів (міститься в колонці `\"Genre\"`), який містить стільки елементів, скільки рядків у попередній таблиці, і в тому самому порядку.\n",
    "* `k`, кількість сусідів для використання в класифікації.\n",
    "\n",
    "Функція має повертати клас, який прогнозує класифікатор `k`- nearest neighbor для заданого рядку ознак (рядок `'Country'` або рядок `'Hip-hop'`).\n",
    "\n",
    "**Підказка** - фактично запишіть вище пророблені кроки у функцію. Спочатку створіть таблицю як і раніше `genre_and_distances` а потім спрогнозуйте жанр як для змінної `my_assigned_genre` в завданні 1.1.3"
   ]
  },
  {
   "cell_type": "code",
   "execution_count": 395,
   "metadata": {},
   "outputs": [],
   "source": [
    "def classify(test_row, train_rows, train_classes, k):\n",
    "    \"\"\"Return the most common class among k nearest neigbors to test_row.\"\"\"\n",
    "    distances = fast_distances(test_row, train_rows)\n",
    "    genre_and_distances = Table().with_columns(\"Genre\", train_lyrics.column(2), \"Distance\", distances).sort(\"Distance\")\n",
    "    my_assigned_genre = genre_and_distances.take(range(k)).group(\"Genre\").sort(\"count\", descending = True).column(\"Genre\").item(0)\n",
    "    return my_assigned_genre\n"
   ]
  },
  {
   "cell_type": "code",
   "execution_count": 396,
   "metadata": {},
   "outputs": [
    {
     "data": {
      "text/html": [
       "\n",
       "    \n",
       "    \n",
       "        <p>All tests passed!</p>\n",
       "    \n",
       "    "
      ],
      "text/plain": [
       "<gofer.ok.OKTestsResult at 0x18ec2b519a0>"
      ]
     },
     "execution_count": 396,
     "metadata": {},
     "output_type": "execute_result"
    }
   ],
   "source": [
    "check(\"tests/q1_2_1.py\")"
   ]
  },
  {
   "attachments": {},
   "cell_type": "markdown",
   "metadata": {},
   "source": [
    "** <b>Завдання 1.2.2</b> ** <br/>\n",
    "\n",
    "Призначте змінній `grandpa_genre` жанр, передбачений вашим класифікатором для пісні \"Grandpa Got Runned Over By A John Deere\" у тестовому наборі, використовуючи **9 сусідів** і використовуючи ваші 20 ознак."
   ]
  },
  {
   "cell_type": "code",
   "execution_count": 397,
   "metadata": {},
   "outputs": [
    {
     "data": {
      "text/plain": [
       "'Hip-hop'"
      ]
     },
     "execution_count": 397,
     "metadata": {},
     "output_type": "execute_result"
    }
   ],
   "source": [
    "# The staff solution first defined a row object called grandpa_features.\n",
    "grandpa_features = lyrics.where(\"Title\", are.equal_to(\"Grandpa Got Runned Over By A John Deere\")).select(my_20_features)\n",
    "grandpa_genre = classify(grandpa_features.row(0), train_20, train_lyrics.column('Genre'), 9)\n",
    "grandpa_genre"
   ]
  },
  {
   "cell_type": "code",
   "execution_count": 398,
   "metadata": {},
   "outputs": [
    {
     "data": {
      "text/html": [
       "\n",
       "    \n",
       "    \n",
       "        <p>All tests passed!</p>\n",
       "    \n",
       "    "
      ],
      "text/plain": [
       "<gofer.ok.OKTestsResult at 0x18ec35ad8b0>"
      ]
     },
     "execution_count": 398,
     "metadata": {},
     "output_type": "execute_result"
    }
   ],
   "source": [
    "check(\"tests/q1_2_2.py\")"
   ]
  },
  {
   "attachments": {},
   "cell_type": "markdown",
   "metadata": {},
   "source": [
    "Нарешті, коли ми оцінюємо наш класифікатор, буде корисно мати функцію класифікації, яка спеціалізується на використанні фіксованого навчальної вибірки та фіксованого значення `k`."
   ]
  },
  {
   "attachments": {},
   "cell_type": "markdown",
   "metadata": {},
   "source": [
    "** <b>Завдання 1.2.3</b> ** <br/>\n",
    "\n",
    "Створіть функцію класифікації, яка приймає як аргумент row - рядок, що містить ваші 20 ознак, і класифікує цей рядок за допомогою алгоритму 5 найближчих сусідів із `train_20` в якості навчальної вибірки та `train_classes` з визнвченими класами. Тобто фактично напишіть функцію яка буде викликати класифікатор для будь якої пісні (row), а не як в попередньому завданні для чітко визнвченої пісні."
   ]
  },
  {
   "cell_type": "code",
   "execution_count": 399,
   "metadata": {},
   "outputs": [
    {
     "data": {
      "text/plain": [
       "'Country'"
      ]
     },
     "execution_count": 399,
     "metadata": {},
     "output_type": "execute_result"
    }
   ],
   "source": [
    "def classify_one_argument(row):\n",
    "    return classify(row, train_20, train_lyrics.column('Genre'), 5)\n",
    "\n",
    "# When you're done, this should produce 'Hip-hop' or 'Country'.\n",
    "classify_one_argument(test_20.row(0))"
   ]
  },
  {
   "cell_type": "code",
   "execution_count": 400,
   "metadata": {},
   "outputs": [
    {
     "data": {
      "text/html": [
       "\n",
       "    \n",
       "    \n",
       "        <p>All tests passed!</p>\n",
       "    \n",
       "    "
      ],
      "text/plain": [
       "<gofer.ok.OKTestsResult at 0x18ec2ed4e20>"
      ]
     },
     "execution_count": 400,
     "metadata": {},
     "output_type": "execute_result"
    }
   ],
   "source": [
    "check(\"tests/q1_2_3.py\")"
   ]
  },
  {
   "attachments": {},
   "cell_type": "markdown",
   "metadata": {},
   "source": [
    "### 1.3. Оцінка класифікатора"
   ]
  },
  {
   "attachments": {},
   "cell_type": "markdown",
   "metadata": {},
   "source": [
    "Тепер, коли користуватися класифікатором стало легко, давайте перевіримо, наскільки він точний для всієї тестової вибірки.\n",
    "\n",
    "** <b>Завдання 1.3.1</b> ** <br/> \n",
    "\n",
    "Використовуйте `classify_one_argument` і `apply`, щоб класифікувати кожну пісню в тестовому наборі. Назвіть ці припущення `test_guesses`. **Тоді** обчисліть частку правильних класифікацій. (`test_lyrics.select(...).apply(classify_one_argument)`) - додайте масив визначених Вами ознак. Для визначеня ж частки вірних класифікацій просто порявняйте спрогнозовані значення класів і реальні з тестової таблиці (`np.average(test_lyrics.column(\"Genre\")`)."
   ]
  },
  {
   "cell_type": "code",
   "execution_count": 401,
   "metadata": {},
   "outputs": [
    {
     "data": {
      "text/plain": [
       "0.71561338289962828"
      ]
     },
     "execution_count": 401,
     "metadata": {},
     "output_type": "execute_result"
    }
   ],
   "source": [
    "test_guesses = test_lyrics.select(my_20_features).apply(classify_one_argument)\n",
    "proportion_correct = (test_guesses == test_lyrics.column(\"Genre\")).sum() / test_lyrics.num_rows\n",
    "proportion_correct"
   ]
  },
  {
   "cell_type": "code",
   "execution_count": 402,
   "metadata": {},
   "outputs": [
    {
     "data": {
      "text/html": [
       "\n",
       "    \n",
       "    \n",
       "        <p>All tests passed!</p>\n",
       "    \n",
       "    "
      ],
      "text/plain": [
       "<gofer.ok.OKTestsResult at 0x18ec490d190>"
      ]
     },
     "execution_count": 402,
     "metadata": {},
     "output_type": "execute_result"
    }
   ],
   "source": [
    "check(\"tests/q1_3_1.py\")"
   ]
  },
  {
   "attachments": {},
   "cell_type": "markdown",
   "metadata": {},
   "source": [
    "На даний момент Ви пройшли один повний цикл розробки класифікатора. Давайте підсумуємо кроки:\n",
    "1. З доступних даних оберіть тестові та навчальні вибірки.\n",
    "2. Виберіть алгоритм, який ви збираєтеся використовувати для класифікації.\n",
    "3. Визначте деякі ознаки.\n",
    "4. Визначте функцію класифікатора, використовуючи ваші ознаки та навчальну вибірку.\n",
    "5. Оцініть його результативність (частку правильних класифікацій) на тестовій вибірці.\n",
    "\n",
    "Отже ми розглянули приклад для визначення жанру пісні - загальний приклад. Якщо Вам зрозумілі всі кроки варто застосувати отримані знання і навички для інших даних. Спробуйте адаптувати свій класифікатор для геологічних задач - наприклад для класифікації аномалій - magn_inv.csv, або для інших даних. Це буде максимально корисно для Вас. І хоча це необов'язково для отримання позитивної оцінки спробуйте отримати власний досвід! "
   ]
  },
  {
   "attachments": {},
   "cell_type": "markdown",
   "metadata": {},
   "source": [
    "## Контроль"
   ]
  },
  {
   "attachments": {},
   "cell_type": "markdown",
   "metadata": {},
   "source": [
    "Ви закінчили з даною роботою! Аби перевірити, що всі завдання виконані вірно, виконайте наступні дії...\n",
    "- **ВАЖЛИВО** Перш ніж щось робити, виберіть, **Save and Checkpoint** з меню `File`. Будь ласка, зробіть це спочатку, перш ніж запускати клітинку нижче,\n",
    "- **запустіть усі тести та перевірте, чи всі вони пройшли успішно** (у наступній клітинці є перевірка для цього), \n",
    "- **Перегляньте notebook востаннє, перевірятися буде остаточний стан вашого notebook. Якщо ви вносили будь-які зміни, збережіть і запустіть всі рядки ще раз** Якщо ви вносили будь-які зміни, запустіть поллідовно всі рядки ще раз і збережіть **Save and Checkpoint** повторно."
   ]
  },
  {
   "cell_type": "code",
   "execution_count": null,
   "metadata": {
    "scrolled": false
   },
   "outputs": [],
   "source": [
    "# For your convenience, you can run this cell to run all the tests at once!\n",
    "import glob\n",
    "from gofer.ok import grade_notebook\n",
    "if not globals().get('__GOFER_GRADER__', False):\n",
    "    display(grade_notebook('module_2.ipynb', sorted(glob.glob('tests/q*.py'))))"
   ]
  },
  {
   "cell_type": "code",
   "execution_count": null,
   "metadata": {},
   "outputs": [],
   "source": []
  }
 ],
 "metadata": {
  "anaconda-cloud": {},
  "kernelspec": {
   "display_name": "Python 3 (ipykernel)",
   "language": "python",
   "name": "python3"
  },
  "lab": "lab05",
  "language_info": {
   "codemirror_mode": {
    "name": "ipython",
    "version": 3
   },
   "file_extension": ".py",
   "mimetype": "text/x-python",
   "name": "python",
   "nbconvert_exporter": "python",
   "pygments_lexer": "ipython3",
   "version": "3.9.13"
  },
  "section": "3"
 },
 "nbformat": 4,
 "nbformat_minor": 1
}
